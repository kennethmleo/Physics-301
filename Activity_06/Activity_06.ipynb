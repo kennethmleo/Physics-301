{
 "cells": [
  {
   "cell_type": "code",
   "execution_count": null,
   "metadata": {},
   "outputs": [],
   "source": [
    "import numpy as np\n",
    "import matplotlib.pyplot as plt\n",
    "import cv2\n",
    "from glob import glob\n",
    "\n",
    "from model_alexnet import Object_detection_alexnet\n",
    "from model_googlenet import Object_detection_googlenet\n",
    "from model_mobilenetv2 import Object_detection_mobilenetv2\n",
    "\n",
    "%matplotlib inline"
   ]
  },
  {
   "cell_type": "code",
   "execution_count": 2,
   "metadata": {},
   "outputs": [],
   "source": [
    "alexnet_classes = []\n",
    "files = glob('test_images/*')\n",
    "for filename in files:\n",
    "    class_, percent_ = Object_detection_alexnet(filename)\n",
    "    percent_ = [str(i) + \" \\%\" for i in np.round(percent_,2)]\n",
    "    alexnet_classes.append(class_)\n",
    "#     plt.figure(figsize = (10,5))\n",
    "#     #fig, axs = plt.subplots(1,2)\n",
    "#     clust_data = list(zip(np.arange(1,5+1,1), class_, percent_))\n",
    "#     collabel=(\"Rank\", \"Classification\", \"Percentage\")\n",
    "#     plt.subplot(121)\n",
    "#     plt.imshow(plt.imread(filename))\n",
    "#     plt.axis('off')\n",
    "    \n",
    "#     plt.subplot(122)\n",
    "#     table = plt.table(cellText=clust_data,colLabels=collabel,loc='center', cellLoc='center')\n",
    "#     table.auto_set_font_size(False)\n",
    "#     table.set_fontsize(14.)\n",
    "#     table.auto_set_column_width((-1, 0, 1, 2, 3))\n",
    "#     table.scale(0, 3)  # may help\n",
    "#     plt.axis('tight')\n",
    "#     plt.axis('off')\n",
    "    \n",
    "#     plt.savefig('test_images_result/alexnet_'+filename[12:-5]+'.png', bbox_inches = 'tight', dpi = 300)\n",
    "#     plt.show()"
   ]
  },
  {
   "cell_type": "code",
   "execution_count": 19,
   "metadata": {},
   "outputs": [],
   "source": [
    "cap = cv2.VideoCapture(0)\n",
    "while True:\n",
    "    ret, frame = cap.read()\n",
    "    width = int(cap.get(3))\n",
    "    height = int(cap.get(4))\n",
    "    \n",
    "    class_, percent_ = Object_detection_alexnet(frame)\n",
    "    \n",
    "    font = cv2.FONT_HERSHEY_SIMPLEX\n",
    "    image = cv2.putText(frame, '{:.2f}% {}'.format(percent_[0], class_[0]), (0, height-10), font, 1, (255, 0, 0), 2, cv2.LINE_AA)\n",
    "    for i in range(1,5):\n",
    "        image = cv2.putText(image, '{:.2f}% {}'.format(percent_[i], class_[i]), (0, height-10-(i*30)), font, 1, (255, 0, 0), 2, cv2.LINE_AA)\n",
    "    cv2.imshow(\"Object Detection\", image)\n",
    "    key = cv2.waitKey(1) & 0xFF\n",
    "    if key == ord(\"q\"):\n",
    "        break\n",
    "    if key == ord(\"s\"):\n",
    "        cv2.imwrite('Figures_alexnet/'+class_[0]+str('.png'), image)\n",
    "\n",
    "cap.release()\n",
    "cv2.destroyAllWindows()"
   ]
  },
  {
   "cell_type": "markdown",
   "metadata": {},
   "source": [
    "### MobileNet V2"
   ]
  },
  {
   "cell_type": "code",
   "execution_count": 3,
   "metadata": {},
   "outputs": [
    {
     "name": "stdout",
     "output_type": "stream",
     "text": [
      "WARNING:tensorflow:AutoGraph could not transform <function Model.make_predict_function.<locals>.predict_function at 0x7febe64124d0> and will run it as-is.\n",
      "Please report this to the TensorFlow team. When filing the bug, set the verbosity to 10 (on Linux, `export AUTOGRAPH_VERBOSITY=10`) and attach the full output.\n",
      "Cause: 'arguments' object has no attribute 'posonlyargs'\n",
      "To silence this warning, decorate the function with @tf.autograph.experimental.do_not_convert\n",
      "WARNING: AutoGraph could not transform <function Model.make_predict_function.<locals>.predict_function at 0x7febe64124d0> and will run it as-is.\n",
      "Please report this to the TensorFlow team. When filing the bug, set the verbosity to 10 (on Linux, `export AUTOGRAPH_VERBOSITY=10`) and attach the full output.\n",
      "Cause: 'arguments' object has no attribute 'posonlyargs'\n",
      "To silence this warning, decorate the function with @tf.autograph.experimental.do_not_convert\n",
      "1/1 [==============================] - 1s 1s/step\n",
      "1/1 [==============================] - 0s 61ms/step\n",
      "1/1 [==============================] - 0s 56ms/step\n",
      "1/1 [==============================] - 0s 61ms/step\n",
      "1/1 [==============================] - 0s 60ms/step\n",
      "1/1 [==============================] - 0s 56ms/step\n",
      "1/1 [==============================] - 0s 60ms/step\n",
      "1/1 [==============================] - 0s 61ms/step\n"
     ]
    }
   ],
   "source": [
    "mobilenetv2_classes = []\n",
    "files = glob('test_images/*')\n",
    "for filename in files:\n",
    "    class_, percent_ = Object_detection_mobilenetv2(filename)\n",
    "    percent_ = [str(i) + \" \\%\" for i in np.round(percent_,2)]\n",
    "    mobilenetv2_classes.append(class_)\n",
    "    \n",
    "#     plt.figure(figsize = (7,5))\n",
    "#     #fig, axs = plt.subplots(1,2)\n",
    "#     clust_data = list(zip(np.arange(1,5+1,1), class_, percent_))\n",
    "#     collabel=(\"Rank\", \"Classification\", \"Percentage\")\n",
    "#     plt.subplot(121)\n",
    "#     plt.imshow(plt.imread(filename))\n",
    "#     plt.axis('off')\n",
    "    \n",
    "#     plt.subplot(122)\n",
    "#     table = plt.table(cellText=clust_data,colLabels=collabel,loc='center', cellLoc='center')\n",
    "#     table.auto_set_font_size(False)\n",
    "#     table.set_fontsize(14.)\n",
    "#     table.auto_set_column_width((-1, 0, 1, 2, 3))\n",
    "#     table.scale(0, 3)  # may help\n",
    "#     plt.axis('tight')\n",
    "#     plt.axis('off')\n",
    "    \n",
    "#     plt.savefig('test_images_result/mobilenetv2_'+filename[12:-5]+'.png', bbox_inches = 'tight', dpi = 300)\n",
    "#     plt.show()"
   ]
  },
  {
   "cell_type": "code",
   "execution_count": null,
   "metadata": {},
   "outputs": [],
   "source": [
    "cap = cv2.VideoCapture(0)\n",
    "while True:\n",
    "    ret, frame = cap.read()\n",
    "    width = int(cap.get(3))\n",
    "    height = int(cap.get(4))\n",
    "    \n",
    "    class_, percent_ = Object_detection_mobilenetv2(frame)\n",
    "    \n",
    "    font = cv2.FONT_HERSHEY_SIMPLEX\n",
    "    image = cv2.putText(frame, '{:.2f}% {}'.format(percent_[0], class_[0]), (0, height-10), font, 1, (255, 0, 0), 2, cv2.LINE_AA)\n",
    "    for i in range(1,5):\n",
    "        image = cv2.putText(image, '{:.2f}% {}'.format(percent_[i], class_[i]), (0, height-10-(i*30)), font, 1, (255, 0, 0), 2, cv2.LINE_AA)\n",
    "    cv2.imshow(\"Object Detection\", image)\n",
    "    key = cv2.waitKey(1) & 0xFF\n",
    "    if key == ord(\"q\"):\n",
    "        break\n",
    "    if key == ord(\"s\"):\n",
    "        cv2.imwrite('Figures_mobilenetv2/'+class_[0]+str('.png'), image)\n",
    "\n",
    "cap.release()\n",
    "cv2.destroyAllWindows()"
   ]
  },
  {
   "cell_type": "markdown",
   "metadata": {},
   "source": [
    "# GoogleNet"
   ]
  },
  {
   "cell_type": "code",
   "execution_count": 4,
   "metadata": {},
   "outputs": [
    {
     "name": "stdout",
     "output_type": "stream",
     "text": [
      "WARNING:tensorflow:AutoGraph could not transform <function Model.make_predict_function.<locals>.predict_function at 0x7febe67af290> and will run it as-is.\n",
      "Please report this to the TensorFlow team. When filing the bug, set the verbosity to 10 (on Linux, `export AUTOGRAPH_VERBOSITY=10`) and attach the full output.\n",
      "Cause: 'arguments' object has no attribute 'posonlyargs'\n",
      "To silence this warning, decorate the function with @tf.autograph.experimental.do_not_convert\n",
      "WARNING: AutoGraph could not transform <function Model.make_predict_function.<locals>.predict_function at 0x7febe67af290> and will run it as-is.\n",
      "Please report this to the TensorFlow team. When filing the bug, set the verbosity to 10 (on Linux, `export AUTOGRAPH_VERBOSITY=10`) and attach the full output.\n",
      "Cause: 'arguments' object has no attribute 'posonlyargs'\n",
      "To silence this warning, decorate the function with @tf.autograph.experimental.do_not_convert\n",
      "1/1 [==============================] - 2s 2s/step\n",
      "1/1 [==============================] - 0s 164ms/step\n",
      "1/1 [==============================] - 0s 179ms/step\n",
      "1/1 [==============================] - 0s 159ms/step\n",
      "1/1 [==============================] - 0s 159ms/step\n",
      "1/1 [==============================] - 0s 167ms/step\n",
      "1/1 [==============================] - 0s 157ms/step\n",
      "1/1 [==============================] - 0s 162ms/step\n"
     ]
    }
   ],
   "source": [
    "googlenet_classes = []\n",
    "files = glob('test_images/*')\n",
    "for filename in files:\n",
    "    class_, percent_ = Object_detection_googlenet(filename)\n",
    "    percent_ = [str(i) + \" \\%\" for i in np.round(percent_,2)]\n",
    "    googlenet_classes.append(class_)\n",
    "#     plt.figure(figsize = (7,5))\n",
    "#     #fig, axs = plt.subplots(1,2)\n",
    "#     clust_data = list(zip(np.arange(1,5+1,1), class_, percent_))\n",
    "#     collabel=(\"Rank\", \"Classification\", \"Percentage\")\n",
    "#     plt.subplot(121)\n",
    "#     plt.imshow(plt.imread(filename))\n",
    "#     plt.axis('off')\n",
    "    \n",
    "#     plt.subplot(122)\n",
    "#     table = plt.table(cellText=clust_data,colLabels=collabel,loc='center', cellLoc='center')\n",
    "#     table.auto_set_font_size(False)\n",
    "#     table.set_fontsize(14.)\n",
    "#     table.auto_set_column_width((-1, 0, 1, 2, 3))\n",
    "#     table.scale(0, 3)  # may help\n",
    "#     plt.axis('tight')\n",
    "#     plt.axis('off')\n",
    "    \n",
    "#     plt.savefig('test_images_result/googlenet_'+filename[12:-5]+'.png', bbox_inches = 'tight', dpi = 300)\n",
    "#     plt.show()"
   ]
  },
  {
   "cell_type": "code",
   "execution_count": null,
   "metadata": {},
   "outputs": [],
   "source": [
    "cap = cv2.VideoCapture(0)\n",
    "\n",
    "cv2.namedWindow(\"image\")\n",
    "while True:\n",
    "    ret, frame = cap.read()\n",
    "    width = int(cap.get(3))\n",
    "    height = int(cap.get(4))\n",
    "    \n",
    "    class_, percent_ = Object_detection_mobilenetv2(frame)\n",
    "    \n",
    "    font = cv2.FONT_HERSHEY_SIMPLEX\n",
    "    image = cv2.putText(frame, '{:.2f}% {}'.format(percent_[0], class_[0]), (0, height-10), font, 1, (255, 0, 0), 2, cv2.LINE_AA)\n",
    "    for i in range(1,5):\n",
    "        image = cv2.putText(image, '{:.2f}% {}'.format(percent_[i], class_[i]), (0, height-10-(i*30)), font, 1, (255, 0, 0), 2, cv2.LINE_AA)\n",
    "    cv2.imshow(\"Object Detection\", image)\n",
    "    key = cv2.waitKey(1) & 0xFF\n",
    "    if key == ord(\"q\"):\n",
    "        break\n",
    "    if key == ord(\"s\"):\n",
    "        cv2.imwrite('Figures_googlenet/'+class_[0]+str('.png'), image)\n",
    "\n",
    "cap.release()\n",
    "cv2.destroyAllWindows()"
   ]
  },
  {
   "cell_type": "code",
   "execution_count": null,
   "metadata": {},
   "outputs": [],
   "source": [
    "truth_values = ['umbrella', 'shoes', 'keyboard', 'switch', 'bottle', 'diffuser', 'extinguisher', 'mug']"
   ]
  },
  {
   "cell_type": "code",
   "execution_count": 5,
   "metadata": {},
   "outputs": [],
   "source": [
    "alex_google = [(1,3), (2,3), (3,4), (4,2), (5,1), (6,3), (7,1), (8,1)]\n",
    "alex_mobile = [(1,0), (2,2), (3,3), (4,3), (5,3), (6,3), (7,3), (8,2)]\n",
    "google_mobile = [(1,0), (2,2), (3,3), (4,3), (5,2), (6,3), (7,1), (8,2)]"
   ]
  },
  {
   "cell_type": "code",
   "execution_count": 6,
   "metadata": {},
   "outputs": [],
   "source": [
    "alex_google_ratio = np.array([i[1] for i in alex_google]).sum() / 40\n",
    "alex_mobile_ratio = np.array([i[1] for i in alex_mobile]).sum() / 40\n",
    "google_mobile_ratio = np.array([i[1] for i in google_mobile]).sum() / 40"
   ]
  },
  {
   "cell_type": "code",
   "execution_count": 14,
   "metadata": {},
   "outputs": [
    {
     "data": {
      "text/plain": [
       "(0.45, 0.475, 0.4)"
      ]
     },
     "execution_count": 14,
     "metadata": {},
     "output_type": "execute_result"
    }
   ],
   "source": [
    "alex_google_ratio, alex_mobile_ratio, google_mobile_ratio"
   ]
  },
  {
   "cell_type": "code",
   "execution_count": 12,
   "metadata": {},
   "outputs": [
    {
     "data": {
      "image/png": "[encoded data removed]",
      "text/plain": [
       "<Figure size 504x504 with 1 Axes>"
      ]
     },
     "metadata": {
      "needs_background": "light"
     },
     "output_type": "display_data"
    }
   ],
   "source": [
    "plt.figure(figsize = (7,7))\n",
    "langs = ['Alexnet-Googlenet', 'Alexnet-MobilenetV2', 'Googlenet-MobilenetV2']\n",
    "students = [alex_google_ratio*100, alex_mobile_ratio*100, google_mobile_ratio*100]\n",
    "plt.bar(langs,students)\n",
    "plt.xticks(fontsize = 15, rotation = 45)\n",
    "plt.yticks(fontsize = 15)\n",
    "plt.ylabel('Similarity Percentage')\n",
    "plt.axhline(y = 50, color = 'black', linestyle = 'dashed')\n",
    "plt.savefig('similarity.png', dpi = 300, bbox_inches = 'tight')\n",
    "plt.show()"
   ]
  },
  {
   "cell_type": "code",
   "execution_count": 15,
   "metadata": {},
   "outputs": [],
   "source": [
    "alex_1 = 3/8\n",
    "alex_5 = 6/8\n",
    "\n",
    "google_1 = 4/8\n",
    "google_5 = 6/8\n",
    "\n",
    "mobile_1 = 5/8\n",
    "mobile_5 = 6/8"
   ]
  },
  {
   "cell_type": "code",
   "execution_count": 16,
   "metadata": {},
   "outputs": [
    {
     "data": {
      "text/plain": [
       "(0.375, 0.75)"
      ]
     },
     "execution_count": 16,
     "metadata": {},
     "output_type": "execute_result"
    }
   ],
   "source": [
    "alex_1, alex_5"
   ]
  },
  {
   "cell_type": "code",
   "execution_count": 17,
   "metadata": {},
   "outputs": [
    {
     "data": {
      "text/plain": [
       "(0.5, 0.75)"
      ]
     },
     "execution_count": 17,
     "metadata": {},
     "output_type": "execute_result"
    }
   ],
   "source": [
    "google_1, google_5"
   ]
  },
  {
   "cell_type": "code",
   "execution_count": 18,
   "metadata": {},
   "outputs": [
    {
     "data": {
      "text/plain": [
       "(0.625, 0.75)"
      ]
     },
     "execution_count": 18,
     "metadata": {},
     "output_type": "execute_result"
    }
   ],
   "source": [
    "mobile_1, mobile_5"
   ]
  },
  {
   "cell_type": "code",
   "execution_count": null,
   "metadata": {},
   "outputs": [],
   "source": []
  }
 ],
 "metadata": {
  "kernelspec": {
   "display_name": "Python 3",
   "language": "python",
   "name": "python3"
  },
  "language_info": {
   "codemirror_mode": {
    "name": "ipython",
    "version": 3
   },
   "file_extension": ".py",
   "mimetype": "text/x-python",
   "name": "python",
   "nbconvert_exporter": "python",
   "pygments_lexer": "ipython3",
   "version": "3.7.4"
  }
 },
 "nbformat": 4,
 "nbformat_minor": 4
}
